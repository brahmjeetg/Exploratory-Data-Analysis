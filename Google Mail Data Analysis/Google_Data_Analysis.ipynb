{
  "nbformat": 4,
  "nbformat_minor": 0,
  "metadata": {
    "kernelspec": {
      "display_name": "Python 3",
      "language": "python",
      "name": "python3"
    },
    "language_info": {
      "codemirror_mode": {
        "name": "ipython",
        "version": 3
      },
      "file_extension": ".py",
      "mimetype": "text/x-python",
      "name": "python",
      "nbconvert_exporter": "python",
      "pygments_lexer": "ipython3",
      "version": "3.7.6"
    },
    "colab": {
      "name": "Google Data Analysis.ipynb",
      "provenance": [],
      "collapsed_sections": []
    }
  },
  "cells": [
    {
      "cell_type": "code",
      "metadata": {
        "id": "UlAJJprR-eK-"
      },
      "source": [
        "import numpy as np\n",
        "import pandas as pd\n",
        "import matplotlib.pyplot as plt"
      ],
      "execution_count": 1,
      "outputs": []
    },
    {
      "cell_type": "code",
      "metadata": {
        "colab": {
          "base_uri": "https://localhost:8080/"
        },
        "id": "hgvXbLjMMi1E",
        "outputId": "0e48a6b0-2dd0-4fb6-86a0-f0a9d19bfb51"
      },
      "source": [
        "from google.colab import drive\n",
        "drive.mount('/content/drive')"
      ],
      "execution_count": 2,
      "outputs": [
        {
          "output_type": "stream",
          "text": [
            "Mounted at /content/drive\n"
          ],
          "name": "stdout"
        }
      ]
    },
    {
      "cell_type": "code",
      "metadata": {
        "id": "LSuFgmzV-eLC"
      },
      "source": [
        "import mailbox"
      ],
      "execution_count": 3,
      "outputs": []
    },
    {
      "cell_type": "code",
      "metadata": {
        "colab": {
          "base_uri": "https://localhost:8080/"
        },
        "id": "-mDDn46s-eLC",
        "outputId": "1ab47932-3c2e-4a9e-fd8d-ae03ea6aadd9"
      },
      "source": [
        "mboxfile = \"/content/drive/MyDrive/Colab Datasets/All mail Including Spam and Trash (1).mbox\"\n",
        "mbox = mailbox.mbox(mboxfile)\n",
        "mbox"
      ],
      "execution_count": 4,
      "outputs": [
        {
          "output_type": "execute_result",
          "data": {
            "text/plain": [
              "<mailbox.mbox at 0x7f6be2c60be0>"
            ]
          },
          "metadata": {
            "tags": []
          },
          "execution_count": 4
        }
      ]
    },
    {
      "cell_type": "code",
      "metadata": {
        "colab": {
          "base_uri": "https://localhost:8080/"
        },
        "id": "DeF86P9f-eLD",
        "outputId": "5f9bebce-a929-4378-99a0-33236d2d37cb"
      },
      "source": [
        "for key in mbox[0].keys():\n",
        "    print(key)"
      ],
      "execution_count": 5,
      "outputs": [
        {
          "output_type": "stream",
          "text": [
            "X-GM-THRID\n",
            "X-Gmail-Labels\n",
            "Delivered-To\n",
            "Received\n",
            "X-Google-Smtp-Source\n",
            "X-Received\n",
            "ARC-Seal\n",
            "ARC-Message-Signature\n",
            "ARC-Authentication-Results\n",
            "Return-Path\n",
            "Received\n",
            "Received-SPF\n",
            "Authentication-Results\n",
            "DKIM-Signature\n",
            "DKIM-Signature\n",
            "From\n",
            "Reply-To\n",
            "To\n",
            "Message-ID\n",
            "Subject\n",
            "MIME-Version\n",
            "Content-Type\n",
            "X-AMAZON-MAIL-RELAY-TYPE\n",
            "Bounces-to\n",
            "X-AMAZON-METADATA\n",
            "X-Original-MessageID\n",
            "Date\n",
            "X-SES-Outgoing\n",
            "Feedback-ID\n"
          ],
          "name": "stdout"
        }
      ]
    },
    {
      "cell_type": "code",
      "metadata": {
        "id": "PymJfpmz-eLE"
      },
      "source": [
        "import csv"
      ],
      "execution_count": 6,
      "outputs": []
    },
    {
      "cell_type": "code",
      "metadata": {
        "id": "S_7cRzdW-eLF"
      },
      "source": [
        "with open('mailbox.csv', 'w') as outputfile:\n",
        "    writer =  csv.writer(outputfile)\n",
        "    writer.writerow(['Subject', 'date', 'to', 'label','thread'])\n",
        "    for message in mbox:\n",
        "        writer.writerow([\n",
        "            message['subject'],\n",
        "            message['from'],\n",
        "            message['date'],\n",
        "            message['to'],\n",
        "            message['X-Gmail_Labels'],\n",
        "            message['X-GM-THRID'],\n",
        "        ]\n",
        "    )"
      ],
      "execution_count": 7,
      "outputs": []
    },
    {
      "cell_type": "code",
      "metadata": {
        "id": "8Baozmo6-eLG"
      },
      "source": [
        "dfs = pd.read_csv('mailbox.csv', names=['subject', 'from', 'date', 'label', 'thread'])"
      ],
      "execution_count": 8,
      "outputs": []
    },
    {
      "cell_type": "code",
      "metadata": {
        "colab": {
          "base_uri": "https://localhost:8080/"
        },
        "id": "Mv48vhT9-eLG",
        "outputId": "270717b1-ac79-4391-c79c-8e60bb77b371"
      },
      "source": [
        "dfs.dtypes"
      ],
      "execution_count": 9,
      "outputs": [
        {
          "output_type": "execute_result",
          "data": {
            "text/plain": [
              "subject    object\n",
              "from       object\n",
              "date       object\n",
              "label      object\n",
              "thread     object\n",
              "dtype: object"
            ]
          },
          "metadata": {
            "tags": []
          },
          "execution_count": 9
        }
      ]
    },
    {
      "cell_type": "code",
      "metadata": {
        "colab": {
          "base_uri": "https://localhost:8080/",
          "height": 204
        },
        "id": "KeVQYfQ7-eLH",
        "outputId": "e8a84599-58f7-4d95-b93f-747de92f2761"
      },
      "source": [
        "dfs.head()"
      ],
      "execution_count": 10,
      "outputs": [
        {
          "output_type": "execute_result",
          "data": {
            "text/html": [
              "<div>\n",
              "<style scoped>\n",
              "    .dataframe tbody tr th:only-of-type {\n",
              "        vertical-align: middle;\n",
              "    }\n",
              "\n",
              "    .dataframe tbody tr th {\n",
              "        vertical-align: top;\n",
              "    }\n",
              "\n",
              "    .dataframe thead th {\n",
              "        text-align: right;\n",
              "    }\n",
              "</style>\n",
              "<table border=\"1\" class=\"dataframe\">\n",
              "  <thead>\n",
              "    <tr style=\"text-align: right;\">\n",
              "      <th></th>\n",
              "      <th>subject</th>\n",
              "      <th>from</th>\n",
              "      <th>date</th>\n",
              "      <th>label</th>\n",
              "      <th>thread</th>\n",
              "    </tr>\n",
              "  </thead>\n",
              "  <tbody>\n",
              "    <tr>\n",
              "      <th>0</th>\n",
              "      <td>Subject</td>\n",
              "      <td>date</td>\n",
              "      <td>to</td>\n",
              "      <td>label</td>\n",
              "      <td>thread</td>\n",
              "    </tr>\n",
              "    <tr>\n",
              "      <th>1</th>\n",
              "      <td>Your Amazon.in order #408-7658831-2521108 of 1...</td>\n",
              "      <td>\"Amazon.in\" &lt;auto-confirm@amazon.in&gt;</td>\n",
              "      <td>Sat, 5 Dec 2020 12:49:21 +0000</td>\n",
              "      <td>brahmag15@gmail.com</td>\n",
              "      <td>NaN</td>\n",
              "    </tr>\n",
              "    <tr>\n",
              "      <th>2</th>\n",
              "      <td>=?UTF-8?Q?The_Wire_shared_\"To_Spend_Less_to_P?...</td>\n",
              "      <td>Twitter &lt;info@twitter.com&gt;</td>\n",
              "      <td>Mon, 07 Dec 2020 07:50:54 +0000</td>\n",
              "      <td>Brahmjeet Gautam &lt;brahmag15@gmail.com&gt;</td>\n",
              "      <td>NaN</td>\n",
              "    </tr>\n",
              "    <tr>\n",
              "      <th>3</th>\n",
              "      <td>Re: wanted to send this your way Azmuth</td>\n",
              "      <td>Serge Ramelli &lt;photoserge@z.kajabimail.net&gt;</td>\n",
              "      <td>Mon, 07 Dec 2020 21:46:25 +0000</td>\n",
              "      <td>brahmag15@gmail.com</td>\n",
              "      <td>NaN</td>\n",
              "    </tr>\n",
              "    <tr>\n",
              "      <th>4</th>\n",
              "      <td>Here's what people are saying</td>\n",
              "      <td>Snaphunt &lt;contact@snaphunt.com&gt;</td>\n",
              "      <td>Fri, 20 Nov 2020 08:00:08 +0000 (UTC)</td>\n",
              "      <td>brahmag15@gmail.com</td>\n",
              "      <td>NaN</td>\n",
              "    </tr>\n",
              "  </tbody>\n",
              "</table>\n",
              "</div>"
            ],
            "text/plain": [
              "                                             subject  ...  thread\n",
              "0                                            Subject  ...  thread\n",
              "1  Your Amazon.in order #408-7658831-2521108 of 1...  ...     NaN\n",
              "2  =?UTF-8?Q?The_Wire_shared_\"To_Spend_Less_to_P?...  ...     NaN\n",
              "3            Re: wanted to send this your way Azmuth  ...     NaN\n",
              "4                      Here's what people are saying  ...     NaN\n",
              "\n",
              "[5 rows x 5 columns]"
            ]
          },
          "metadata": {
            "tags": []
          },
          "execution_count": 10
        }
      ]
    },
    {
      "cell_type": "code",
      "metadata": {
        "id": "fik9w-MJ-eLH"
      },
      "source": [
        "dfs['date'] = dfs['date'].apply(lambda x: pd.to_datetime(x, errors='coerce', utc=True))"
      ],
      "execution_count": 11,
      "outputs": []
    },
    {
      "cell_type": "code",
      "metadata": {
        "id": "oBroLeZc-eLH"
      },
      "source": [
        "dfs = dfs[dfs['date'].notna()]"
      ],
      "execution_count": 12,
      "outputs": []
    },
    {
      "cell_type": "code",
      "metadata": {
        "id": "nZYpi-IB-eLI"
      },
      "source": [
        "dfs.to_csv('gmail.csv')"
      ],
      "execution_count": 13,
      "outputs": []
    },
    {
      "cell_type": "code",
      "metadata": {
        "colab": {
          "base_uri": "https://localhost:8080/"
        },
        "id": "-D3_1Zbq-eLI",
        "outputId": "c1732a61-abea-4edb-839b-babaaf057954"
      },
      "source": [
        "dfs.info()"
      ],
      "execution_count": 14,
      "outputs": [
        {
          "output_type": "stream",
          "text": [
            "<class 'pandas.core.frame.DataFrame'>\n",
            "Int64Index: 1952 entries, 1 to 1952\n",
            "Data columns (total 5 columns):\n",
            " #   Column   Non-Null Count  Dtype              \n",
            "---  ------   --------------  -----              \n",
            " 0   subject  1952 non-null   object             \n",
            " 1   from     1952 non-null   object             \n",
            " 2   date     1952 non-null   datetime64[ns, UTC]\n",
            " 3   label    1951 non-null   object             \n",
            " 4   thread   0 non-null      object             \n",
            "dtypes: datetime64[ns, UTC](1), object(4)\n",
            "memory usage: 91.5+ KB\n"
          ],
          "name": "stdout"
        }
      ]
    },
    {
      "cell_type": "code",
      "metadata": {
        "colab": {
          "base_uri": "https://localhost:8080/",
          "height": 359
        },
        "id": "aAECUlw1-eLI",
        "outputId": "648ccdf6-b28c-4114-85c9-4cf383754b61"
      },
      "source": [
        "dfs.head(10)"
      ],
      "execution_count": 15,
      "outputs": [
        {
          "output_type": "execute_result",
          "data": {
            "text/html": [
              "<div>\n",
              "<style scoped>\n",
              "    .dataframe tbody tr th:only-of-type {\n",
              "        vertical-align: middle;\n",
              "    }\n",
              "\n",
              "    .dataframe tbody tr th {\n",
              "        vertical-align: top;\n",
              "    }\n",
              "\n",
              "    .dataframe thead th {\n",
              "        text-align: right;\n",
              "    }\n",
              "</style>\n",
              "<table border=\"1\" class=\"dataframe\">\n",
              "  <thead>\n",
              "    <tr style=\"text-align: right;\">\n",
              "      <th></th>\n",
              "      <th>subject</th>\n",
              "      <th>from</th>\n",
              "      <th>date</th>\n",
              "      <th>label</th>\n",
              "      <th>thread</th>\n",
              "    </tr>\n",
              "  </thead>\n",
              "  <tbody>\n",
              "    <tr>\n",
              "      <th>1</th>\n",
              "      <td>Your Amazon.in order #408-7658831-2521108 of 1...</td>\n",
              "      <td>\"Amazon.in\" &lt;auto-confirm@amazon.in&gt;</td>\n",
              "      <td>2020-12-05 12:49:21+00:00</td>\n",
              "      <td>brahmag15@gmail.com</td>\n",
              "      <td>NaN</td>\n",
              "    </tr>\n",
              "    <tr>\n",
              "      <th>2</th>\n",
              "      <td>=?UTF-8?Q?The_Wire_shared_\"To_Spend_Less_to_P?...</td>\n",
              "      <td>Twitter &lt;info@twitter.com&gt;</td>\n",
              "      <td>2020-12-07 07:50:54+00:00</td>\n",
              "      <td>Brahmjeet Gautam &lt;brahmag15@gmail.com&gt;</td>\n",
              "      <td>NaN</td>\n",
              "    </tr>\n",
              "    <tr>\n",
              "      <th>3</th>\n",
              "      <td>Re: wanted to send this your way Azmuth</td>\n",
              "      <td>Serge Ramelli &lt;photoserge@z.kajabimail.net&gt;</td>\n",
              "      <td>2020-12-07 21:46:25+00:00</td>\n",
              "      <td>brahmag15@gmail.com</td>\n",
              "      <td>NaN</td>\n",
              "    </tr>\n",
              "    <tr>\n",
              "      <th>4</th>\n",
              "      <td>Here's what people are saying</td>\n",
              "      <td>Snaphunt &lt;contact@snaphunt.com&gt;</td>\n",
              "      <td>2020-11-20 08:00:08+00:00</td>\n",
              "      <td>brahmag15@gmail.com</td>\n",
              "      <td>NaN</td>\n",
              "    </tr>\n",
              "    <tr>\n",
              "      <th>5</th>\n",
              "      <td>Live Webinar: How I solved the one problem tha...</td>\n",
              "      <td>Serge Ramelli &lt;photoserge@z.kajabimail.net&gt;</td>\n",
              "      <td>2020-12-04 12:19:28+00:00</td>\n",
              "      <td>brahmag15@gmail.com</td>\n",
              "      <td>NaN</td>\n",
              "    </tr>\n",
              "    <tr>\n",
              "      <th>6</th>\n",
              "      <td>=?UTF-8?Q?Yogendra_Yadav_Tw?= =?UTF-8?Q?eeted:...</td>\n",
              "      <td>Twitter &lt;info@twitter.com&gt;</td>\n",
              "      <td>2020-12-07 13:06:39+00:00</td>\n",
              "      <td>Brahmjeet Gautam &lt;brahmag15@gmail.com&gt;</td>\n",
              "      <td>NaN</td>\n",
              "    </tr>\n",
              "    <tr>\n",
              "      <th>7</th>\n",
              "      <td>HALF price - FULL benefits. Join now!</td>\n",
              "      <td>\"Freeletics\" &lt;instructors@email.freeletics.com&gt;</td>\n",
              "      <td>2020-11-18 08:32:37+00:00</td>\n",
              "      <td>brahmag15@gmail.com</td>\n",
              "      <td>NaN</td>\n",
              "    </tr>\n",
              "    <tr>\n",
              "      <th>8</th>\n",
              "      <td>=?UTF-8?B?WW9nZW5kcmEgWWFkYXYgc2g=?=\\r\\n =?UTF...</td>\n",
              "      <td>Twitter &lt;info@twitter.com&gt;</td>\n",
              "      <td>2020-12-06 02:36:00+00:00</td>\n",
              "      <td>Brahmjeet Gautam &lt;brahmag15@gmail.com&gt;</td>\n",
              "      <td>NaN</td>\n",
              "    </tr>\n",
              "    <tr>\n",
              "      <th>9</th>\n",
              "      <td>Current MADS student began data science journe...</td>\n",
              "      <td>\"Coursera\" &lt;no-reply@m.mail.coursera.org&gt;</td>\n",
              "      <td>2020-11-18 21:12:31+00:00</td>\n",
              "      <td>\"\" &lt;brahmag15@gmail.com&gt;</td>\n",
              "      <td>NaN</td>\n",
              "    </tr>\n",
              "    <tr>\n",
              "      <th>10</th>\n",
              "      <td>=?utf-8?q?Introducing=3A_Zero_To_PRO_=F0=9F=A4...</td>\n",
              "      <td>Serge Ramelli &lt;photoserge@z.kajabimail.net&gt;</td>\n",
              "      <td>2020-11-21 16:25:28+00:00</td>\n",
              "      <td>brahmag15@gmail.com</td>\n",
              "      <td>NaN</td>\n",
              "    </tr>\n",
              "  </tbody>\n",
              "</table>\n",
              "</div>"
            ],
            "text/plain": [
              "                                              subject  ... thread\n",
              "1   Your Amazon.in order #408-7658831-2521108 of 1...  ...    NaN\n",
              "2   =?UTF-8?Q?The_Wire_shared_\"To_Spend_Less_to_P?...  ...    NaN\n",
              "3             Re: wanted to send this your way Azmuth  ...    NaN\n",
              "4                       Here's what people are saying  ...    NaN\n",
              "5   Live Webinar: How I solved the one problem tha...  ...    NaN\n",
              "6   =?UTF-8?Q?Yogendra_Yadav_Tw?= =?UTF-8?Q?eeted:...  ...    NaN\n",
              "7              HALF price - FULL benefits. Join now!   ...    NaN\n",
              "8   =?UTF-8?B?WW9nZW5kcmEgWWFkYXYgc2g=?=\\r\\n =?UTF...  ...    NaN\n",
              "9   Current MADS student began data science journe...  ...    NaN\n",
              "10  =?utf-8?q?Introducing=3A_Zero_To_PRO_=F0=9F=A4...  ...    NaN\n",
              "\n",
              "[10 rows x 5 columns]"
            ]
          },
          "metadata": {
            "tags": []
          },
          "execution_count": 15
        }
      ]
    },
    {
      "cell_type": "code",
      "metadata": {
        "id": "-hioUNgv-eLI"
      },
      "source": [
        "import re"
      ],
      "execution_count": 16,
      "outputs": []
    },
    {
      "cell_type": "code",
      "metadata": {
        "id": "LrE6_5zY-eLJ"
      },
      "source": [
        "def extract_email_ID(string):\n",
        "    email = re.findall(r'<(.+?)>', string)\n",
        "    if not email:\n",
        "        email = list(filter(lambda y: '@' in y, string.split()))\n",
        "    return email[0] if email else np.nan"
      ],
      "execution_count": 17,
      "outputs": []
    },
    {
      "cell_type": "code",
      "metadata": {
        "id": "zpX3A9Zy-eLJ"
      },
      "source": [
        "dfs['from'] = dfs['from'].apply(lambda x: extract_email_ID(x))"
      ],
      "execution_count": 18,
      "outputs": []
    },
    {
      "cell_type": "code",
      "metadata": {
        "id": "8qCCyPW7-eLJ"
      },
      "source": [
        "myemail = 'brahmag15@gmail.com'\n",
        "dfs['label'] = dfs['from'].apply(lambda x: 'sent' if x==myemail else 'inbox')"
      ],
      "execution_count": 19,
      "outputs": []
    },
    {
      "cell_type": "code",
      "metadata": {
        "colab": {
          "base_uri": "https://localhost:8080/"
        },
        "id": "zttEGTUY-eLK",
        "outputId": "8ce899ee-c3e9-4296-ac04-8a5aea942c0b"
      },
      "source": [
        "dfs.columns"
      ],
      "execution_count": 20,
      "outputs": [
        {
          "output_type": "execute_result",
          "data": {
            "text/plain": [
              "Index(['subject', 'from', 'date', 'label', 'thread'], dtype='object')"
            ]
          },
          "metadata": {
            "tags": []
          },
          "execution_count": 20
        }
      ]
    },
    {
      "cell_type": "code",
      "metadata": {
        "colab": {
          "base_uri": "https://localhost:8080/",
          "height": 204
        },
        "id": "l7vYjDPyCvq6",
        "outputId": "653d4686-db2f-48c1-b0ae-d895417bdac2"
      },
      "source": [
        "dfs.head()"
      ],
      "execution_count": 21,
      "outputs": [
        {
          "output_type": "execute_result",
          "data": {
            "text/html": [
              "<div>\n",
              "<style scoped>\n",
              "    .dataframe tbody tr th:only-of-type {\n",
              "        vertical-align: middle;\n",
              "    }\n",
              "\n",
              "    .dataframe tbody tr th {\n",
              "        vertical-align: top;\n",
              "    }\n",
              "\n",
              "    .dataframe thead th {\n",
              "        text-align: right;\n",
              "    }\n",
              "</style>\n",
              "<table border=\"1\" class=\"dataframe\">\n",
              "  <thead>\n",
              "    <tr style=\"text-align: right;\">\n",
              "      <th></th>\n",
              "      <th>subject</th>\n",
              "      <th>from</th>\n",
              "      <th>date</th>\n",
              "      <th>label</th>\n",
              "      <th>thread</th>\n",
              "    </tr>\n",
              "  </thead>\n",
              "  <tbody>\n",
              "    <tr>\n",
              "      <th>1</th>\n",
              "      <td>Your Amazon.in order #408-7658831-2521108 of 1...</td>\n",
              "      <td>auto-confirm@amazon.in</td>\n",
              "      <td>2020-12-05 12:49:21+00:00</td>\n",
              "      <td>inbox</td>\n",
              "      <td>NaN</td>\n",
              "    </tr>\n",
              "    <tr>\n",
              "      <th>2</th>\n",
              "      <td>=?UTF-8?Q?The_Wire_shared_\"To_Spend_Less_to_P?...</td>\n",
              "      <td>info@twitter.com</td>\n",
              "      <td>2020-12-07 07:50:54+00:00</td>\n",
              "      <td>inbox</td>\n",
              "      <td>NaN</td>\n",
              "    </tr>\n",
              "    <tr>\n",
              "      <th>3</th>\n",
              "      <td>Re: wanted to send this your way Azmuth</td>\n",
              "      <td>photoserge@z.kajabimail.net</td>\n",
              "      <td>2020-12-07 21:46:25+00:00</td>\n",
              "      <td>inbox</td>\n",
              "      <td>NaN</td>\n",
              "    </tr>\n",
              "    <tr>\n",
              "      <th>4</th>\n",
              "      <td>Here's what people are saying</td>\n",
              "      <td>contact@snaphunt.com</td>\n",
              "      <td>2020-11-20 08:00:08+00:00</td>\n",
              "      <td>inbox</td>\n",
              "      <td>NaN</td>\n",
              "    </tr>\n",
              "    <tr>\n",
              "      <th>5</th>\n",
              "      <td>Live Webinar: How I solved the one problem tha...</td>\n",
              "      <td>photoserge@z.kajabimail.net</td>\n",
              "      <td>2020-12-04 12:19:28+00:00</td>\n",
              "      <td>inbox</td>\n",
              "      <td>NaN</td>\n",
              "    </tr>\n",
              "  </tbody>\n",
              "</table>\n",
              "</div>"
            ],
            "text/plain": [
              "                                             subject  ... thread\n",
              "1  Your Amazon.in order #408-7658831-2521108 of 1...  ...    NaN\n",
              "2  =?UTF-8?Q?The_Wire_shared_\"To_Spend_Less_to_P?...  ...    NaN\n",
              "3            Re: wanted to send this your way Azmuth  ...    NaN\n",
              "4                      Here's what people are saying  ...    NaN\n",
              "5  Live Webinar: How I solved the one problem tha...  ...    NaN\n",
              "\n",
              "[5 rows x 5 columns]"
            ]
          },
          "metadata": {
            "tags": []
          },
          "execution_count": 21
        }
      ]
    },
    {
      "cell_type": "code",
      "metadata": {
        "id": "n-Gma2buC_vB"
      },
      "source": [
        "import datetime\r\n",
        "import pytz"
      ],
      "execution_count": 22,
      "outputs": []
    },
    {
      "cell_type": "code",
      "metadata": {
        "id": "jGJPItd-DKMI"
      },
      "source": [
        "def refactor_timezone(x):\r\n",
        "  ind = pytz.timezone('Asia/Kolkata')\r\n",
        "  return x.astimezone(ind)"
      ],
      "execution_count": 23,
      "outputs": []
    },
    {
      "cell_type": "code",
      "metadata": {
        "id": "z0UcdU78DYUB"
      },
      "source": [
        "dfs['date'] = dfs['date'].apply(lambda x: refactor_timezone(x))"
      ],
      "execution_count": 24,
      "outputs": []
    },
    {
      "cell_type": "code",
      "metadata": {
        "id": "xWDDPYeqD2fX"
      },
      "source": [
        "dfs['dayofweek'] = dfs['date'].dt.day_name\r\n",
        "dfs['dayofweek'] = pd.Categorical(dfs['dayofweek'], categories=['Monday', 'Tuesday', 'Wednesday', 'Thursday', 'Friday','Saturday', 'Sunday'], ordered=True)"
      ],
      "execution_count": 25,
      "outputs": []
    },
    {
      "cell_type": "code",
      "metadata": {
        "id": "o4vuNFICEYKS"
      },
      "source": [
        "dfs['timeofday'] = dfs['date'].apply(lambda x: x.hour + x.minute/60 + x.second/3600)"
      ],
      "execution_count": 26,
      "outputs": []
    },
    {
      "cell_type": "code",
      "metadata": {
        "id": "8O01fMaVgUx2"
      },
      "source": [
        "dfs['hour'] = dfs['date'].apply(lambda x: x.hour)"
      ],
      "execution_count": 27,
      "outputs": []
    },
    {
      "cell_type": "code",
      "metadata": {
        "id": "gm7KYWhVNCw_"
      },
      "source": [
        "dfs['year_int'] = dfs['date'].apply(lambda x: x.year)"
      ],
      "execution_count": 28,
      "outputs": []
    },
    {
      "cell_type": "code",
      "metadata": {
        "id": "DS_WHZBjNHMe"
      },
      "source": [
        "dfs['year'] = dfs['date'].apply(lambda x: x.year + x.dayofyear/365.25)"
      ],
      "execution_count": 29,
      "outputs": []
    },
    {
      "cell_type": "code",
      "metadata": {
        "id": "UqF441yUNNLM"
      },
      "source": [
        "dfs.index = dfs['date']\r\n",
        "del dfs['date']"
      ],
      "execution_count": 30,
      "outputs": []
    },
    {
      "cell_type": "code",
      "metadata": {
        "id": "CuQSa_ZcOh44",
        "colab": {
          "base_uri": "https://localhost:8080/"
        },
        "outputId": "33ef274c-13ee-481f-9ba8-6155a5b87928"
      },
      "source": [
        "print(dfs.index.min().strftime('%a, %d %b %Y %I %M %p'))\r\n",
        "print(dfs.index.max().strftime('%a, %d %b %Y %I %M %p'))\r\n",
        "print(dfs['label'].value_counts())"
      ],
      "execution_count": 32,
      "outputs": [
        {
          "output_type": "stream",
          "text": [
            "Sun, 27 Mar 2016 10 01 AM\n",
            "Tue, 08 Dec 2020 09 24 PM\n",
            "inbox    1951\n",
            "sent        1\n",
            "Name: label, dtype: int64\n"
          ],
          "name": "stdout"
        }
      ]
    },
    {
      "cell_type": "code",
      "metadata": {
        "id": "sU7apypfd12I"
      },
      "source": [
        "sent = dfs[dfs['label']=='sent']\r\n",
        "received = dfs[dfs['label'] == 'inbox']"
      ],
      "execution_count": 33,
      "outputs": []
    },
    {
      "cell_type": "code",
      "metadata": {
        "id": "2YrbZUfzeon6"
      },
      "source": [
        "import matplotlib.pyplot as plt\r\n",
        "from matplotlib.ticker import MaxNLocator\r\n",
        "from scipy import ndimage\r\n",
        "import matplotlib.gridspec as gridspec\r\n",
        "import matplotlib.patches as mpatches"
      ],
      "execution_count": 34,
      "outputs": []
    },
    {
      "cell_type": "code",
      "metadata": {
        "id": "l16eX5w3e8QR"
      },
      "source": [
        "from wordcloud import WordCloud\r\n",
        "df_no_arxiv = dfs[dfs['from'] != 'no-reply@arXiv.org']\r\n",
        "text = ' '.join(map(str, sent['subject'].values))"
      ],
      "execution_count": 39,
      "outputs": []
    },
    {
      "cell_type": "code",
      "metadata": {
        "colab": {
          "base_uri": "https://localhost:8080/",
          "height": 846
        },
        "id": "IfhT3S7jfPWy",
        "outputId": "c19ab6b0-f29f-49cc-dadc-ee9a494de50a"
      },
      "source": [
        "stopwords = ['Re', 'Fwd', '3A_']\r\n",
        "wrd = WordCloud(width=700, height=480, margin=0, collocations=False)\r\n",
        "for sw in stopwords:\r\n",
        "  wrd.stopwords.add(sw)\r\n",
        "wordcloud = wrd.generate(text)\r\n",
        "\r\n",
        "plt.figure(figsize=(25,15))\r\n",
        "plt.imshow(wordcloud, interpolation='bilinear')\r\n",
        "plt.axis(\"off\")\r\n",
        "plt.margins(x=0, y=0)"
      ],
      "execution_count": 40,
      "outputs": [
        {
          "output_type": "display_data",
          "data": {
            "image/png": "[encoded data removed]",
            "text/plain": [
              "<Figure size 1800x1080 with 1 Axes>"
            ]
          },
          "metadata": {
            "tags": [],
            "needs_background": "light"
          }
        }
      ]
    },
    {
      "cell_type": "code",
      "metadata": {
        "id": "4Ul-GtlsgrCE"
      },
      "source": [
        ""
      ],
      "execution_count": null,
      "outputs": []
    }
  ]
}